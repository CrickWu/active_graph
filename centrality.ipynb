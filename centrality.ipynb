{
 "cells": [
  {
   "cell_type": "code",
   "execution_count": 1,
   "metadata": {},
   "outputs": [],
   "source": [
    "import networkx as nx\n",
    "import numpy as np\n",
    "from torch_geometric.datasets import Planetoid, CoraFull, PPI, Coauthor, Amazon"
   ]
  },
  {
   "cell_type": "code",
   "execution_count": 8,
   "metadata": {},
   "outputs": [],
   "source": [
    "#calculate the percentage of elements smaller than the k-th element\n",
    "def perc(input,k):\n",
    "    return sum([1 if i else 0 for i in input<input[k]])/float(len(input))\n",
    "\n",
    "#calculate the percentage of elements larger than the k-th element\n",
    "def percd(input,k):\n",
    "    return sum([1 if i else 0 for i in input>input[k]])/float(len(input))"
   ]
  },
  {
   "cell_type": "code",
   "execution_count": 14,
   "metadata": {},
   "outputs": [
    {
     "name": "stdout",
     "output_type": "stream",
     "text": [
      "[0.6 0.8 0.  0.2 0.4]\n",
      "[0.6 0.8 0.  0.2 0.4]\n"
     ]
    }
   ],
   "source": [
    "input = np.array([3., 4., 1., 2., 2.1])\n",
    "cenperc = np.asarray([perc(input, i) for i in range(len(input))])\n",
    "print(cenperc)\n",
    "def perc_full_np(input):\n",
    "    l = len(input)\n",
    "    indices = np.argsort(input)\n",
    "    loc = np.zeros(l, dtype=np.float)\n",
    "    for i in range(l):\n",
    "        loc[indices[i]] = i\n",
    "    return loc / l\n",
    "print(perc_full_np(cenperc))"
   ]
  },
  {
   "cell_type": "code",
   "execution_count": 2,
   "metadata": {},
   "outputs": [],
   "source": [
    "def centralissimo(G):\n",
    "    centralities = []\n",
    "    centralities.append(nx.pagerank(G))                #print 'page rank: check.'\n",
    "    L = len(centralities[0])\n",
    "    Nc = len(centralities)\n",
    "    print('L, Nc', L, Nc)\n",
    "    cenarray = np.zeros((Nc,L))\n",
    "    for i in range(Nc):\n",
    "    \tcenarray[i][list(centralities[i].keys())]=list(centralities[i].values())\n",
    "    normcen = (cenarray.astype(float)-np.min(cenarray,axis=1)[:,None])/(np.max(cenarray,axis=1)-np.min(cenarray,axis=1))[:,None]\n",
    "    return normcen"
   ]
  },
  {
   "cell_type": "code",
   "execution_count": 3,
   "metadata": {},
   "outputs": [],
   "source": [
    "# dataset = Planetoid(root='./data/Cora', name='Cora')\n",
    "dataset = CoraFull(root='./data/CoraFull')"
   ]
  },
  {
   "cell_type": "code",
   "execution_count": 4,
   "metadata": {},
   "outputs": [],
   "source": [
    "import torch_geometric.utils as tgu\n",
    "graph = tgu.to_networkx(dataset[0].edge_index)"
   ]
  },
  {
   "cell_type": "code",
   "execution_count": 5,
   "metadata": {},
   "outputs": [
    {
     "name": "stdout",
     "output_type": "stream",
     "text": [
      "L, Nc 19793 1\n"
     ]
    }
   ],
   "source": [
    "normcen = centralissimo(graph)"
   ]
  },
  {
   "cell_type": "code",
   "execution_count": 6,
   "metadata": {},
   "outputs": [
    {
     "data": {
      "text/plain": [
       "(1, 19793)"
      ]
     },
     "execution_count": 6,
     "metadata": {},
     "output_type": "execute_result"
    }
   ],
   "source": [
    "normcen.shape"
   ]
  },
  {
   "cell_type": "code",
   "execution_count": 7,
   "metadata": {},
   "outputs": [
    {
     "data": {
      "text/plain": [
       "array([[0.04152337, 0.00356879, 0.00356879, ..., 0.00422403, 0.00742059,\n",
       "        0.00081266]])"
      ]
     },
     "execution_count": 7,
     "metadata": {},
     "output_type": "execute_result"
    }
   ],
   "source": [
    "normcen"
   ]
  },
  {
   "cell_type": "code",
   "execution_count": null,
   "metadata": {},
   "outputs": [],
   "source": [
    "def save_centrality():\n",
    "    pass"
   ]
  }
 ],
 "metadata": {
  "kernelspec": {
   "display_name": "Python3 (pyg)",
   "language": "python",
   "name": "pyg"
  },
  "language_info": {
   "codemirror_mode": {
    "name": "ipython",
    "version": 3
   },
   "file_extension": ".py",
   "mimetype": "text/x-python",
   "name": "python",
   "nbconvert_exporter": "python",
   "pygments_lexer": "ipython3",
   "version": "3.7.2"
  }
 },
 "nbformat": 4,
 "nbformat_minor": 2
}
